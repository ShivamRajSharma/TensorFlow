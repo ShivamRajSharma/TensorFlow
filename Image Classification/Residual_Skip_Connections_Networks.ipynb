{
 "cells": [
  {
   "cell_type": "code",
   "execution_count": 1,
   "metadata": {},
   "outputs": [],
   "source": [
    "import warnings\n",
    "warnings.filterwarnings('ignore')\n",
    "\n",
    "import gc\n",
    "import os\n",
    "import cv2\n",
    "import math\n",
    "import numpy as np \n",
    "from tqdm import tqdm \n",
    "import pandas as pd \n",
    "import matplotlib.pyplot as plt\n",
    "import seaborn as sns\n",
    "import tensorflow as tf\n",
    "import albumentations as alb\n",
    "from tensorflow.keras.datasets import cifar10\n",
    "import tensorflow.keras.backend as K\n",
    "from tensorflow.keras.models import Model \n",
    "from tensorflow.keras.optimizers import Adam \n",
    "from tensorflow.keras import callbacks\n",
    "from sklearn.metrics import confusion_matrix"
   ]
  },
  {
   "cell_type": "code",
   "execution_count": 2,
   "metadata": {},
   "outputs": [],
   "source": [
    "from tensorflow.keras.layers import (\n",
    "    Input, Conv2D, PReLU, BatchNormalization,\n",
    "    Dropout, MaxPooling2D, GlobalAveragePooling2D,\n",
    "    Activation, Dense, LeakyReLU\n",
    ")"
   ]
  },
  {
   "cell_type": "code",
   "execution_count": 3,
   "metadata": {},
   "outputs": [],
   "source": [
    "physical_device = tf.config.list_physical_devices('GPU')\n",
    "tf.config.experimental.set_memory_growth(physical_device[0], True)"
   ]
  },
  {
   "cell_type": "code",
   "execution_count": 4,
   "metadata": {},
   "outputs": [
    {
     "name": "stdout",
     "output_type": "stream",
     "text": [
      "Mixed precision enabled\n"
     ]
    }
   ],
   "source": [
    "tf.config.optimizer.set_experimental_options({\"auto_mixed_precision\": True})\n",
    "print('Mixed precision enabled')"
   ]
  },
  {
   "cell_type": "code",
   "execution_count": 5,
   "metadata": {},
   "outputs": [],
   "source": [
    "class DataLoader(tf.keras.utils.Sequence):\n",
    "    def __init__(self, x, y, list_IDs, batch_size, shuffle=False, augment=True, labels=True, imagenet=False):\n",
    "        self.x = x\n",
    "        self.y = y\n",
    "        self.augment = augment\n",
    "        self.shuffle = shuffle\n",
    "        self.batch_size = batch_size\n",
    "        self.labels = labels\n",
    "        self.list_IDs = list_IDs\n",
    "        self.imagenet = imagenet\n",
    "        self.on_epoch_end()\n",
    "    \n",
    "    def __len__(self):\n",
    "        return int(np.floor(len(self.list_IDs) / self.batch_size))\n",
    "    \n",
    "    def __getitem__(self, idx):\n",
    "        indexes = self.indexes[idx*self.batch_size:(idx+1)*self.batch_size]\n",
    "        x, y = self.__data_generation(indexes)\n",
    "        if self.augment:\n",
    "            x = self.augment_(x)\n",
    "        return x, y\n",
    "    \n",
    "    def on_epoch_end(self):\n",
    "        self.indexes = np.arange(len(self.list_IDs))\n",
    "        if self.shuffle == True:\n",
    "            np.random.shuffle(self.indexes)\n",
    "    \n",
    "    def __data_generation(self, indexes):\n",
    "        X = self.x[indexes]\n",
    "        Y = self.y[indexes]\n",
    "        return X, Y\n",
    "        \n",
    "    \n",
    "    def random_transform(self, img):\n",
    "        mean = (0.485, 0.456, 0.406)\n",
    "        std = (0.229, 0.224, 0.225)\n",
    "        if self.labels:\n",
    "            mean = (0.5071, 0.4867, 0.4408)\n",
    "            std = (0.2675, 0.2565, 0.2761)\n",
    "            mean = (0, 0, 0)\n",
    "            std = (1, 1, 1)\n",
    "            composition = alb.Compose(\n",
    "            [\n",
    "                alb.Normalize(mean, std, max_pixel_value=255.0, always_apply=True),\n",
    "                alb.Resize(32, 32, always_apply=True),\n",
    "                alb.ShiftScaleRotate(shift_limit=0.0625, scale_limit=0.1, rotate_limit=15),\n",
    "                alb.Flip(p=0.1),\n",
    "                alb.Transpose(p=0.1),\n",
    "                alb.Rotate(p=0.1),\n",
    "                alb.RandomBrightness(p=0.1),\n",
    "            ]\n",
    "        )\n",
    "            return composition(image=img)['image']\n",
    "            \n",
    "        else:\n",
    "            mean = (0.5071, 0.4867, 0.4408)\n",
    "            std = (0.2675, 0.2565, 0.2761)\n",
    "            mean = (0, 0, 0)\n",
    "            std = (1, 1, 1)\n",
    "            composition = alb.Compose(\n",
    "            [\n",
    "                alb.Normalize(mean, std, max_pixel_value=255.0, always_apply=True),\n",
    "                alb.Resize(32, 32, always_apply=True)\n",
    "            ]\n",
    "        )\n",
    "            return composition(image=img)['image']\n",
    "            \n",
    "\n",
    "    def augment_(self, image_batch):\n",
    "        images = []\n",
    "        for i in range(image_batch.shape[0]):\n",
    "            images.append(self.random_transform(image_batch[i, ]))\n",
    "        images = np.array(images)\n",
    "        return images"
   ]
  },
  {
   "cell_type": "code",
   "execution_count": 6,
   "metadata": {},
   "outputs": [],
   "source": [
    "def residual_block(x, i):\n",
    "    a = x\n",
    "    for i in range(3):\n",
    "        x = Conv2D(2**(5+i), kernel_size=3, padding='same', dilation_rate=2)(x)\n",
    "        x = BatchNormalization()(x)\n",
    "        x = LeakyReLU()(x)\n",
    "        x = Dropout(0.2)(x)\n",
    "    a = Conv2D(2**(5+i), kernel_size=1)(a)\n",
    "    x = tf.math.add(x, a)\n",
    "    x = BatchNormalization()(x)\n",
    "    x = LeakyReLU()(x)\n",
    "    x = Dropout(0.2)(x)\n",
    "    return x\n",
    "\n",
    "def simple_model(shape):\n",
    "    inp_x = Input(shape=shape)\n",
    "    x = Conv2D(32, kernel_size=1)(inp_x)\n",
    "    x = BatchNormalization()(x)\n",
    "    x = LeakyReLU()(x)\n",
    "    for i in range(2):\n",
    "        x = residual_block(x, i)\n",
    "    x = GlobalAveragePooling2D()(x)\n",
    "    x = Dense(100)(x)\n",
    "    x = BatchNormalization()(x)\n",
    "    x = LeakyReLU()(x)\n",
    "    x = Dropout(0.4)(x)\n",
    "    x = Dense(10, activation='softmax')(x)\n",
    "    model = Model(inp_x, x)\n",
    "    return model"
   ]
  },
  {
   "cell_type": "code",
   "execution_count": 7,
   "metadata": {},
   "outputs": [],
   "source": [
    "def learning_rate_fn(epoch):\n",
    "    if epoch < LR_RAMPUP_EPOCHS:\n",
    "        lr = (LR_MAX - LR_START) / LR_RAMPUP_EPOCHS * epoch + LR_START\n",
    "    elif epoch < LR_RAMPUP_EPOCHS + LR_SUSTAIN_EPOCHS:\n",
    "        lr = LR_MAX\n",
    "    else:\n",
    "        lr = LR_MAX * LR_STEP_DECAY**((epoch - LR_RAMPUP_EPOCHS - LR_SUSTAIN_EPOCHS)//10)\n",
    "    return lr"
   ]
  },
  {
   "cell_type": "code",
   "execution_count": 8,
   "metadata": {},
   "outputs": [],
   "source": [
    "(x_train, y_train), (x_val, y_val)= cifar10.load_data()"
   ]
  },
  {
   "cell_type": "code",
   "execution_count": 9,
   "metadata": {},
   "outputs": [],
   "source": [
    "labels = ['airplane', 'automobile', 'bird', 'cat', 'deer', 'dog', 'frog', 'horse', 'ship', 'truck']"
   ]
  },
  {
   "cell_type": "code",
   "execution_count": 10,
   "metadata": {},
   "outputs": [],
   "source": [
    "train_list_IDs = np.arange(0, len(x_train))\n",
    "val_list_IDs = np.arange(0, len(x_val))"
   ]
  },
  {
   "cell_type": "code",
   "execution_count": 11,
   "metadata": {},
   "outputs": [],
   "source": [
    "LR_START = 1e-5\n",
    "LR_MAX = 1e-3\n",
    "LR_RAMPUP_EPOCHS = 5\n",
    "LR_SUSTAIN_EPOCHS = 0\n",
    "LR_STEP_DECAY = 0.75\n",
    "\n",
    "callbacks = tf.keras.callbacks.LearningRateScheduler(learning_rate_fn, verbose=True)"
   ]
  },
  {
   "cell_type": "code",
   "execution_count": 12,
   "metadata": {
    "scrolled": true
   },
   "outputs": [],
   "source": [
    "# with strategy.scope():\n",
    "simple_model = simple_model((32, 32, 3))"
   ]
  },
  {
   "cell_type": "code",
   "execution_count": 13,
   "metadata": {},
   "outputs": [],
   "source": [
    "BATCH_SIZE = 64\n",
    "EPOCHS = 40"
   ]
  },
  {
   "cell_type": "code",
   "execution_count": 14,
   "metadata": {},
   "outputs": [],
   "source": [
    "train_gen = DataLoader(\n",
    "    x_train, y_train, train_list_IDs, \n",
    "    batch_size=BATCH_SIZE, augment=True, \n",
    "    shuffle=True, labels=True\n",
    ")\n",
    "val_gen = DataLoader(\n",
    "    x_val, y_val, val_list_IDs, \n",
    "    batch_size=BATCH_SIZE, labels=False\n",
    ")"
   ]
  },
  {
   "cell_type": "code",
   "execution_count": 15,
   "metadata": {},
   "outputs": [],
   "source": [
    "simple_model.compile(loss='sparse_categorical_crossentropy', optimizer=Adam(lr=1e-3), metrics=['sparse_categorical_accuracy'])"
   ]
  },
  {
   "cell_type": "code",
   "execution_count": 16,
   "metadata": {},
   "outputs": [
    {
     "name": "stdout",
     "output_type": "stream",
     "text": [
      "\n",
      "Epoch 00001: LearningRateScheduler reducing learning rate to 1e-05.\n",
      "Epoch 1/40\n",
      "781/781 [==============================] - 41s 53ms/step - loss: 2.3132 - sparse_categorical_accuracy: 0.2032 - val_loss: 2.1297 - val_sparse_categorical_accuracy: 0.2432\n",
      "\n",
      "Epoch 00002: LearningRateScheduler reducing learning rate to 0.000208.\n",
      "Epoch 2/40\n",
      "781/781 [==============================] - 42s 54ms/step - loss: 1.9240 - sparse_categorical_accuracy: 0.3133 - val_loss: 1.6377 - val_sparse_categorical_accuracy: 0.4125\n",
      "\n",
      "Epoch 00003: LearningRateScheduler reducing learning rate to 0.000406.\n",
      "Epoch 3/40\n",
      "781/781 [==============================] - 43s 55ms/step - loss: 1.6756 - sparse_categorical_accuracy: 0.3973 - val_loss: 1.4258 - val_sparse_categorical_accuracy: 0.4855\n",
      "\n",
      "Epoch 00004: LearningRateScheduler reducing learning rate to 0.0006039999999999999.\n",
      "Epoch 4/40\n",
      "781/781 [==============================] - 43s 55ms/step - loss: 1.5134 - sparse_categorical_accuracy: 0.4595 - val_loss: 1.3170 - val_sparse_categorical_accuracy: 0.5216\n",
      "\n",
      "Epoch 00005: LearningRateScheduler reducing learning rate to 0.000802.\n",
      "Epoch 5/40\n",
      "781/781 [==============================] - 43s 55ms/step - loss: 1.4106 - sparse_categorical_accuracy: 0.4957 - val_loss: 1.1832 - val_sparse_categorical_accuracy: 0.5746\n",
      "\n",
      "Epoch 00006: LearningRateScheduler reducing learning rate to 0.001.\n",
      "Epoch 6/40\n",
      "781/781 [==============================] - 43s 55ms/step - loss: 1.3383 - sparse_categorical_accuracy: 0.5253 - val_loss: 1.1322 - val_sparse_categorical_accuracy: 0.5855\n",
      "\n",
      "Epoch 00007: LearningRateScheduler reducing learning rate to 0.001.\n",
      "Epoch 7/40\n",
      "781/781 [==============================] - 43s 55ms/step - loss: 1.2769 - sparse_categorical_accuracy: 0.5440 - val_loss: 1.1332 - val_sparse_categorical_accuracy: 0.6012\n",
      "\n",
      "Epoch 00008: LearningRateScheduler reducing learning rate to 0.001.\n",
      "Epoch 8/40\n",
      "781/781 [==============================] - 43s 55ms/step - loss: 1.2187 - sparse_categorical_accuracy: 0.5661 - val_loss: 1.1630 - val_sparse_categorical_accuracy: 0.5848\n",
      "\n",
      "Epoch 00009: LearningRateScheduler reducing learning rate to 0.001.\n",
      "Epoch 9/40\n",
      "781/781 [==============================] - 43s 55ms/step - loss: 1.1778 - sparse_categorical_accuracy: 0.5818 - val_loss: 1.1725 - val_sparse_categorical_accuracy: 0.5776\n",
      "\n",
      "Epoch 00010: LearningRateScheduler reducing learning rate to 0.001.\n",
      "Epoch 10/40\n",
      "781/781 [==============================] - 43s 55ms/step - loss: 1.1393 - sparse_categorical_accuracy: 0.5997 - val_loss: 1.0704 - val_sparse_categorical_accuracy: 0.6334\n",
      "\n",
      "Epoch 00011: LearningRateScheduler reducing learning rate to 0.001.\n",
      "Epoch 11/40\n",
      "781/781 [==============================] - 43s 55ms/step - loss: 1.1065 - sparse_categorical_accuracy: 0.6088 - val_loss: 0.8828 - val_sparse_categorical_accuracy: 0.6890\n",
      "\n",
      "Epoch 00012: LearningRateScheduler reducing learning rate to 0.001.\n",
      "Epoch 12/40\n",
      "781/781 [==============================] - 43s 55ms/step - loss: 1.0758 - sparse_categorical_accuracy: 0.6208 - val_loss: 0.9257 - val_sparse_categorical_accuracy: 0.6795\n",
      "\n",
      "Epoch 00013: LearningRateScheduler reducing learning rate to 0.001.\n",
      "Epoch 13/40\n",
      "781/781 [==============================] - 43s 55ms/step - loss: 1.0533 - sparse_categorical_accuracy: 0.6318 - val_loss: 0.8540 - val_sparse_categorical_accuracy: 0.7006\n",
      "\n",
      "Epoch 00014: LearningRateScheduler reducing learning rate to 0.001.\n",
      "Epoch 14/40\n",
      "781/781 [==============================] - 43s 55ms/step - loss: 1.0330 - sparse_categorical_accuracy: 0.6383 - val_loss: 0.8138 - val_sparse_categorical_accuracy: 0.7168\n",
      "\n",
      "Epoch 00015: LearningRateScheduler reducing learning rate to 0.001.\n",
      "Epoch 15/40\n",
      "781/781 [==============================] - 43s 55ms/step - loss: 1.0039 - sparse_categorical_accuracy: 0.6492 - val_loss: 0.8071 - val_sparse_categorical_accuracy: 0.7159\n",
      "\n",
      "Epoch 00016: LearningRateScheduler reducing learning rate to 0.00075.\n",
      "Epoch 16/40\n",
      "781/781 [==============================] - 43s 55ms/step - loss: 0.9562 - sparse_categorical_accuracy: 0.6670 - val_loss: 0.7285 - val_sparse_categorical_accuracy: 0.7475\n",
      "\n",
      "Epoch 00017: LearningRateScheduler reducing learning rate to 0.00075.\n",
      "Epoch 17/40\n",
      "781/781 [==============================] - 43s 55ms/step - loss: 0.9423 - sparse_categorical_accuracy: 0.6719 - val_loss: 0.7348 - val_sparse_categorical_accuracy: 0.7451\n",
      "\n",
      "Epoch 00018: LearningRateScheduler reducing learning rate to 0.00075.\n",
      "Epoch 18/40\n",
      "781/781 [==============================] - 43s 55ms/step - loss: 0.9265 - sparse_categorical_accuracy: 0.6778 - val_loss: 0.7667 - val_sparse_categorical_accuracy: 0.7391\n",
      "\n",
      "Epoch 00019: LearningRateScheduler reducing learning rate to 0.00075.\n",
      "Epoch 19/40\n",
      "781/781 [==============================] - 43s 55ms/step - loss: 0.9139 - sparse_categorical_accuracy: 0.6819 - val_loss: 0.7719 - val_sparse_categorical_accuracy: 0.7351\n",
      "\n",
      "Epoch 00020: LearningRateScheduler reducing learning rate to 0.00075.\n",
      "Epoch 20/40\n",
      "781/781 [==============================] - 43s 55ms/step - loss: 0.9045 - sparse_categorical_accuracy: 0.6840 - val_loss: 0.6959 - val_sparse_categorical_accuracy: 0.7643\n",
      "\n",
      "Epoch 00021: LearningRateScheduler reducing learning rate to 0.00075.\n",
      "Epoch 21/40\n",
      "781/781 [==============================] - 43s 55ms/step - loss: 0.8886 - sparse_categorical_accuracy: 0.6904 - val_loss: 0.7333 - val_sparse_categorical_accuracy: 0.7475\n",
      "\n",
      "Epoch 00022: LearningRateScheduler reducing learning rate to 0.00075.\n",
      "Epoch 22/40\n",
      "781/781 [==============================] - 43s 55ms/step - loss: 0.8798 - sparse_categorical_accuracy: 0.6947 - val_loss: 0.6844 - val_sparse_categorical_accuracy: 0.7659\n",
      "\n",
      "Epoch 00023: LearningRateScheduler reducing learning rate to 0.00075.\n",
      "Epoch 23/40\n",
      "781/781 [==============================] - 43s 55ms/step - loss: 0.8716 - sparse_categorical_accuracy: 0.6972 - val_loss: 0.7627 - val_sparse_categorical_accuracy: 0.7401\n",
      "\n",
      "Epoch 00024: LearningRateScheduler reducing learning rate to 0.00075.\n",
      "Epoch 24/40\n",
      "781/781 [==============================] - 43s 55ms/step - loss: 0.8596 - sparse_categorical_accuracy: 0.6990 - val_loss: 0.7124 - val_sparse_categorical_accuracy: 0.7569\n",
      "\n",
      "Epoch 00025: LearningRateScheduler reducing learning rate to 0.00075.\n",
      "Epoch 25/40\n",
      "781/781 [==============================] - 43s 55ms/step - loss: 0.8598 - sparse_categorical_accuracy: 0.7023 - val_loss: 0.7578 - val_sparse_categorical_accuracy: 0.7439\n",
      "\n",
      "Epoch 00026: LearningRateScheduler reducing learning rate to 0.0005625000000000001.\n",
      "Epoch 26/40\n",
      "781/781 [==============================] - 43s 55ms/step - loss: 0.8257 - sparse_categorical_accuracy: 0.7142 - val_loss: 0.6981 - val_sparse_categorical_accuracy: 0.7656\n",
      "\n",
      "Epoch 00027: LearningRateScheduler reducing learning rate to 0.0005625000000000001.\n",
      "Epoch 27/40\n",
      "781/781 [==============================] - 43s 55ms/step - loss: 0.8200 - sparse_categorical_accuracy: 0.7157 - val_loss: 0.6324 - val_sparse_categorical_accuracy: 0.7846\n",
      "\n",
      "Epoch 00028: LearningRateScheduler reducing learning rate to 0.0005625000000000001.\n",
      "Epoch 28/40\n",
      "781/781 [==============================] - 43s 55ms/step - loss: 0.8136 - sparse_categorical_accuracy: 0.7182 - val_loss: 0.6666 - val_sparse_categorical_accuracy: 0.7764\n",
      "\n",
      "Epoch 00029: LearningRateScheduler reducing learning rate to 0.0005625000000000001.\n",
      "Epoch 29/40\n",
      "781/781 [==============================] - 43s 55ms/step - loss: 0.8013 - sparse_categorical_accuracy: 0.7215 - val_loss: 0.6398 - val_sparse_categorical_accuracy: 0.7867\n",
      "\n",
      "Epoch 00030: LearningRateScheduler reducing learning rate to 0.0005625000000000001.\n",
      "Epoch 30/40\n",
      "781/781 [==============================] - 43s 55ms/step - loss: 0.7980 - sparse_categorical_accuracy: 0.7242 - val_loss: 0.6271 - val_sparse_categorical_accuracy: 0.7894\n",
      "\n",
      "Epoch 00031: LearningRateScheduler reducing learning rate to 0.0005625000000000001.\n",
      "Epoch 31/40\n",
      "781/781 [==============================] - 43s 55ms/step - loss: 0.7946 - sparse_categorical_accuracy: 0.7233 - val_loss: 0.5950 - val_sparse_categorical_accuracy: 0.8000\n",
      "\n",
      "Epoch 00032: LearningRateScheduler reducing learning rate to 0.0005625000000000001.\n",
      "Epoch 32/40\n",
      "781/781 [==============================] - 43s 55ms/step - loss: 0.7859 - sparse_categorical_accuracy: 0.7274 - val_loss: 0.5868 - val_sparse_categorical_accuracy: 0.8004\n"
     ]
    },
    {
     "name": "stdout",
     "output_type": "stream",
     "text": [
      "\n",
      "Epoch 00033: LearningRateScheduler reducing learning rate to 0.0005625000000000001.\n",
      "Epoch 33/40\n",
      "781/781 [==============================] - 41s 52ms/step - loss: 0.7894 - sparse_categorical_accuracy: 0.7252 - val_loss: 0.5831 - val_sparse_categorical_accuracy: 0.8047\n",
      "\n",
      "Epoch 00034: LearningRateScheduler reducing learning rate to 0.0005625000000000001.\n",
      "Epoch 34/40\n",
      "781/781 [==============================] - 41s 53ms/step - loss: 0.7808 - sparse_categorical_accuracy: 0.7293 - val_loss: 0.6347 - val_sparse_categorical_accuracy: 0.7811\n",
      "\n",
      "Epoch 00035: LearningRateScheduler reducing learning rate to 0.0005625000000000001.\n",
      "Epoch 35/40\n",
      "781/781 [==============================] - 41s 53ms/step - loss: 0.7796 - sparse_categorical_accuracy: 0.7309 - val_loss: 0.6014 - val_sparse_categorical_accuracy: 0.7987\n",
      "\n",
      "Epoch 00036: LearningRateScheduler reducing learning rate to 0.000421875.\n",
      "Epoch 36/40\n",
      "781/781 [==============================] - 41s 53ms/step - loss: 0.7566 - sparse_categorical_accuracy: 0.7371 - val_loss: 0.6284 - val_sparse_categorical_accuracy: 0.7896\n",
      "\n",
      "Epoch 00037: LearningRateScheduler reducing learning rate to 0.000421875.\n",
      "Epoch 37/40\n",
      "781/781 [==============================] - 41s 53ms/step - loss: 0.7567 - sparse_categorical_accuracy: 0.7378 - val_loss: 0.5990 - val_sparse_categorical_accuracy: 0.7967\n",
      "\n",
      "Epoch 00038: LearningRateScheduler reducing learning rate to 0.000421875.\n",
      "Epoch 38/40\n",
      "781/781 [==============================] - 41s 53ms/step - loss: 0.7516 - sparse_categorical_accuracy: 0.7390 - val_loss: 0.5617 - val_sparse_categorical_accuracy: 0.8086\n",
      "\n",
      "Epoch 00039: LearningRateScheduler reducing learning rate to 0.000421875.\n",
      "Epoch 39/40\n",
      "781/781 [==============================] - 41s 53ms/step - loss: 0.7413 - sparse_categorical_accuracy: 0.7443 - val_loss: 0.5702 - val_sparse_categorical_accuracy: 0.8063\n",
      "\n",
      "Epoch 00040: LearningRateScheduler reducing learning rate to 0.000421875.\n",
      "Epoch 40/40\n",
      "781/781 [==============================] - 41s 52ms/step - loss: 0.7434 - sparse_categorical_accuracy: 0.7445 - val_loss: 0.5767 - val_sparse_categorical_accuracy: 0.8061\n"
     ]
    }
   ],
   "source": [
    "simple_model_history = simple_model.fit(train_gen, epochs=EPOCHS, batch_size=BATCH_SIZE, validation_data=(val_gen), callbacks=[callbacks])"
   ]
  },
  {
   "cell_type": "code",
   "execution_count": 17,
   "metadata": {},
   "outputs": [],
   "source": [
    "def plot(data, model_name):\n",
    "    plt.subplot(2,2,1)\n",
    "    plt.plot(np.arange(EPOCHS), data.history['loss'], label='TRAIN LOSS')\n",
    "    plt.plot(np.arange(EPOCHS), data.history['val_loss'], label='VAL LOSS')\n",
    "    plt.xlabel('EPOCHS')\n",
    "    plt.ylabel('LOSS')\n",
    "    plt.legend()\n",
    "    plt.subplot(2,2,2)\n",
    "    plt.plot(np.arange(EPOCHS), data.history['sparse_categorical_accuracy'], label='TRAIN ACC')\n",
    "    plt.plot(np.arange(EPOCHS), data.history['val_sparse_categorical_accuracy'], label='VAL ACC')\n",
    "    plt.xlabel('EPOCHS')\n",
    "    plt.ylabel('ACC')\n",
    "    plt.title(f'{model_name}')\n",
    "    plt.legend()"
   ]
  },
  {
   "cell_type": "code",
   "execution_count": 18,
   "metadata": {},
   "outputs": [
    {
     "data": {
      "image/png": "[encoded data removed]",
      "text/plain": [
       "<Figure size 2160x720 with 2 Axes>"
      ]
     },
     "metadata": {},
     "output_type": "display_data"
    }
   ],
   "source": [
    "x = {\n",
    "    'simple_model' : simple_model_history\n",
    "}\n",
    "plt.figure(figsize=(30, 10))\n",
    "for num, (model_name, data) in enumerate(x.items()):\n",
    "    plt.subplot(2, 2, num + 1)\n",
    "    plot(data, model_name)\n",
    "plt.show()"
   ]
  },
  {
   "cell_type": "code",
   "execution_count": 19,
   "metadata": {},
   "outputs": [
    {
     "data": {
      "image/png": "[encoded data removed]",
      "text/plain": [
       "<Figure size 432x288 with 2 Axes>"
      ]
     },
     "metadata": {},
     "output_type": "display_data"
    }
   ],
   "source": [
    "x_val_ = val_gen.augment_(x_val)\n",
    "predictions = simple_model.predict(x_val_).argmax(axis=-1)\n",
    "x = confusion_matrix(predictions, y_val)\n",
    "sns.heatmap(x, xticklabels=labels, yticklabels=labels, cmap='viridis')\n",
    "plt.show()"
   ]
  },
  {
   "cell_type": "code",
   "execution_count": null,
   "metadata": {},
   "outputs": [],
   "source": []
  }
 ],
 "metadata": {
  "kernelspec": {
   "display_name": "Python 3",
   "language": "python",
   "name": "python3"
  },
  "language_info": {
   "codemirror_mode": {
    "name": "ipython",
    "version": 3
   },
   "file_extension": ".py",
   "mimetype": "text/x-python",
   "name": "python",
   "nbconvert_exporter": "python",
   "pygments_lexer": "ipython3",
   "version": "3.6.9"
  }
 },
 "nbformat": 4,
 "nbformat_minor": 2
}
